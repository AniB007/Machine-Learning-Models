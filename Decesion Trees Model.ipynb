{
  "nbformat": 4,
  "nbformat_minor": 0,
  "metadata": {
    "colab": {
      "provenance": [],
      "mount_file_id": "1KsOfP8NsrdnoULMq8QZxRadVtra4Wl0H",
      "authorship_tag": "ABX9TyMCuyKRQraCOlsZCDY4bD3H",
      "include_colab_link": true
    },
    "kernelspec": {
      "name": "python3",
      "display_name": "Python 3"
    },
    "language_info": {
      "name": "python"
    }
  },
  "cells": [
    {
      "cell_type": "markdown",
      "metadata": {
        "id": "view-in-github",
        "colab_type": "text"
      },
      "source": [
        "<a href=\"https://colab.research.google.com/github/AniB007/Machine-Learning-Models/blob/main/Decesion%20Trees%20Model.ipynb\" target=\"_parent\"><img src=\"https://colab.research.google.com/assets/colab-badge.svg\" alt=\"Open In Colab\"/></a>"
      ]
    },
    {
      "cell_type": "markdown",
      "source": [
        "The file daily_weather.csv is a comma-separated file that contains weather data. The weather station is equipped with sensors that capture weather-related measurements such as air temperature, air pressure, and relative humidity. Data was collected for a period of three years, from September 2011 to September 2014, to ensure that sufficient data for different seasons and weather conditions is captured.\n",
        "\n",
        "**Problem: Use morning sensor signals as features to predict whether the humidity will be high at 3pm.**"
      ],
      "metadata": {
        "id": "DXx30BwaH7xc"
      }
    },
    {
      "cell_type": "code",
      "execution_count": null,
      "metadata": {
        "id": "Ok45jJdaGREf"
      },
      "outputs": [],
      "source": [
        "# Importing Required libraries\n",
        "import pandas as pd\n",
        "import numpy as np\n",
        "import matplotlib.pyplot as plt\n",
        "import seaborn as sns\n",
        "sns.set()\n",
        "import warnings\n",
        "warnings.filterwarnings('ignore')\n",
        "from sklearn.tree import DecisionTreeClassifier,plot_tree\n",
        "from sklearn.model_selection import train_test_split\n",
        "from sklearn.metrics import accuracy_score,confusion_matrix"
      ]
    },
    {
      "cell_type": "code",
      "source": [
        "# reading data from source\n",
        "weather = pd.read_csv(\"/content/drive/MyDrive/daily_weather.csv\")"
      ],
      "metadata": {
        "id": "qjVVQf2SHmrd"
      },
      "execution_count": null,
      "outputs": []
    },
    {
      "cell_type": "code",
      "source": [
        "# First view of dataset\n",
        "weather"
      ],
      "metadata": {
        "colab": {
          "base_uri": "https://localhost:8080/",
          "height": 444
        },
        "id": "tVTh0KSBHwpm",
        "outputId": "ceae4bf4-a5aa-418a-872b-3f53278e476e"
      },
      "execution_count": null,
      "outputs": [
        {
          "output_type": "execute_result",
          "data": {
            "text/plain": [
              "      air_pressure_9am  air_temp_9am  avg_wind_direction_9am  \\\n",
              "0           918.060000     74.822000              271.100000   \n",
              "1           917.347688     71.403843              101.935179   \n",
              "2           923.040000     60.638000               51.000000   \n",
              "3           920.502751     70.138895              198.832133   \n",
              "4           921.160000     44.294000              277.800000   \n",
              "...                ...           ...                     ...   \n",
              "1090        918.900000     63.104000              192.900000   \n",
              "1091        918.710000     49.568000              241.600000   \n",
              "1092        916.600000     71.096000              189.300000   \n",
              "1093        912.600000     58.406000              172.700000   \n",
              "1094        921.530000     77.702000               97.100000   \n",
              "\n",
              "      avg_wind_speed_9am  max_wind_direction_9am  max_wind_speed_9am  \\\n",
              "0               2.080354              295.400000            2.863283   \n",
              "1               2.443009              140.471549            3.533324   \n",
              "2              17.067852               63.700000           22.100967   \n",
              "3               4.337363              211.203341            5.190045   \n",
              "4               1.856660              136.500000            2.863283   \n",
              "...                  ...                     ...                 ...   \n",
              "1090            3.869906              207.300000            5.212070   \n",
              "1091            1.811921              227.400000            2.371156   \n",
              "1092            3.064608              200.800000            3.892276   \n",
              "1093            3.825167              189.100000            4.764682   \n",
              "1094            3.265932              125.900000            4.451511   \n",
              "\n",
              "      rain_accumulation_9am  rain_duration_9am  relative_humidity_9am  \\\n",
              "0                       0.0                0.0              42.420000   \n",
              "1                       0.0                0.0              24.328697   \n",
              "2                       0.0               20.0               8.900000   \n",
              "3                       0.0                0.0              12.189102   \n",
              "4                       8.9            14730.0              92.410000   \n",
              "...                     ...                ...                    ...   \n",
              "1090                    0.0                0.0              26.020000   \n",
              "1091                    0.0                0.0              90.350000   \n",
              "1092                    0.0                0.0              45.590000   \n",
              "1093                    0.0                0.0              64.840000   \n",
              "1094                    0.0                0.0              14.560000   \n",
              "\n",
              "      high_humidity_3pm  \n",
              "0                     1  \n",
              "1                     0  \n",
              "2                     0  \n",
              "3                     0  \n",
              "4                     1  \n",
              "...                 ...  \n",
              "1090                  1  \n",
              "1091                  1  \n",
              "1092                  1  \n",
              "1093                  1  \n",
              "1094                  0  \n",
              "\n",
              "[1095 rows x 10 columns]"
            ],
            "text/html": [
              "\n",
              "  <div id=\"df-2697197f-9191-447f-a4ae-0df7e0e5bf60\" class=\"colab-df-container\">\n",
              "    <div>\n",
              "<style scoped>\n",
              "    .dataframe tbody tr th:only-of-type {\n",
              "        vertical-align: middle;\n",
              "    }\n",
              "\n",
              "    .dataframe tbody tr th {\n",
              "        vertical-align: top;\n",
              "    }\n",
              "\n",
              "    .dataframe thead th {\n",
              "        text-align: right;\n",
              "    }\n",
              "</style>\n",
              "<table border=\"1\" class=\"dataframe\">\n",
              "  <thead>\n",
              "    <tr style=\"text-align: right;\">\n",
              "      <th></th>\n",
              "      <th>air_pressure_9am</th>\n",
              "      <th>air_temp_9am</th>\n",
              "      <th>avg_wind_direction_9am</th>\n",
              "      <th>avg_wind_speed_9am</th>\n",
              "      <th>max_wind_direction_9am</th>\n",
              "      <th>max_wind_speed_9am</th>\n",
              "      <th>rain_accumulation_9am</th>\n",
              "      <th>rain_duration_9am</th>\n",
              "      <th>relative_humidity_9am</th>\n",
              "      <th>high_humidity_3pm</th>\n",
              "    </tr>\n",
              "  </thead>\n",
              "  <tbody>\n",
              "    <tr>\n",
              "      <th>0</th>\n",
              "      <td>918.060000</td>\n",
              "      <td>74.822000</td>\n",
              "      <td>271.100000</td>\n",
              "      <td>2.080354</td>\n",
              "      <td>295.400000</td>\n",
              "      <td>2.863283</td>\n",
              "      <td>0.0</td>\n",
              "      <td>0.0</td>\n",
              "      <td>42.420000</td>\n",
              "      <td>1</td>\n",
              "    </tr>\n",
              "    <tr>\n",
              "      <th>1</th>\n",
              "      <td>917.347688</td>\n",
              "      <td>71.403843</td>\n",
              "      <td>101.935179</td>\n",
              "      <td>2.443009</td>\n",
              "      <td>140.471549</td>\n",
              "      <td>3.533324</td>\n",
              "      <td>0.0</td>\n",
              "      <td>0.0</td>\n",
              "      <td>24.328697</td>\n",
              "      <td>0</td>\n",
              "    </tr>\n",
              "    <tr>\n",
              "      <th>2</th>\n",
              "      <td>923.040000</td>\n",
              "      <td>60.638000</td>\n",
              "      <td>51.000000</td>\n",
              "      <td>17.067852</td>\n",
              "      <td>63.700000</td>\n",
              "      <td>22.100967</td>\n",
              "      <td>0.0</td>\n",
              "      <td>20.0</td>\n",
              "      <td>8.900000</td>\n",
              "      <td>0</td>\n",
              "    </tr>\n",
              "    <tr>\n",
              "      <th>3</th>\n",
              "      <td>920.502751</td>\n",
              "      <td>70.138895</td>\n",
              "      <td>198.832133</td>\n",
              "      <td>4.337363</td>\n",
              "      <td>211.203341</td>\n",
              "      <td>5.190045</td>\n",
              "      <td>0.0</td>\n",
              "      <td>0.0</td>\n",
              "      <td>12.189102</td>\n",
              "      <td>0</td>\n",
              "    </tr>\n",
              "    <tr>\n",
              "      <th>4</th>\n",
              "      <td>921.160000</td>\n",
              "      <td>44.294000</td>\n",
              "      <td>277.800000</td>\n",
              "      <td>1.856660</td>\n",
              "      <td>136.500000</td>\n",
              "      <td>2.863283</td>\n",
              "      <td>8.9</td>\n",
              "      <td>14730.0</td>\n",
              "      <td>92.410000</td>\n",
              "      <td>1</td>\n",
              "    </tr>\n",
              "    <tr>\n",
              "      <th>...</th>\n",
              "      <td>...</td>\n",
              "      <td>...</td>\n",
              "      <td>...</td>\n",
              "      <td>...</td>\n",
              "      <td>...</td>\n",
              "      <td>...</td>\n",
              "      <td>...</td>\n",
              "      <td>...</td>\n",
              "      <td>...</td>\n",
              "      <td>...</td>\n",
              "    </tr>\n",
              "    <tr>\n",
              "      <th>1090</th>\n",
              "      <td>918.900000</td>\n",
              "      <td>63.104000</td>\n",
              "      <td>192.900000</td>\n",
              "      <td>3.869906</td>\n",
              "      <td>207.300000</td>\n",
              "      <td>5.212070</td>\n",
              "      <td>0.0</td>\n",
              "      <td>0.0</td>\n",
              "      <td>26.020000</td>\n",
              "      <td>1</td>\n",
              "    </tr>\n",
              "    <tr>\n",
              "      <th>1091</th>\n",
              "      <td>918.710000</td>\n",
              "      <td>49.568000</td>\n",
              "      <td>241.600000</td>\n",
              "      <td>1.811921</td>\n",
              "      <td>227.400000</td>\n",
              "      <td>2.371156</td>\n",
              "      <td>0.0</td>\n",
              "      <td>0.0</td>\n",
              "      <td>90.350000</td>\n",
              "      <td>1</td>\n",
              "    </tr>\n",
              "    <tr>\n",
              "      <th>1092</th>\n",
              "      <td>916.600000</td>\n",
              "      <td>71.096000</td>\n",
              "      <td>189.300000</td>\n",
              "      <td>3.064608</td>\n",
              "      <td>200.800000</td>\n",
              "      <td>3.892276</td>\n",
              "      <td>0.0</td>\n",
              "      <td>0.0</td>\n",
              "      <td>45.590000</td>\n",
              "      <td>1</td>\n",
              "    </tr>\n",
              "    <tr>\n",
              "      <th>1093</th>\n",
              "      <td>912.600000</td>\n",
              "      <td>58.406000</td>\n",
              "      <td>172.700000</td>\n",
              "      <td>3.825167</td>\n",
              "      <td>189.100000</td>\n",
              "      <td>4.764682</td>\n",
              "      <td>0.0</td>\n",
              "      <td>0.0</td>\n",
              "      <td>64.840000</td>\n",
              "      <td>1</td>\n",
              "    </tr>\n",
              "    <tr>\n",
              "      <th>1094</th>\n",
              "      <td>921.530000</td>\n",
              "      <td>77.702000</td>\n",
              "      <td>97.100000</td>\n",
              "      <td>3.265932</td>\n",
              "      <td>125.900000</td>\n",
              "      <td>4.451511</td>\n",
              "      <td>0.0</td>\n",
              "      <td>0.0</td>\n",
              "      <td>14.560000</td>\n",
              "      <td>0</td>\n",
              "    </tr>\n",
              "  </tbody>\n",
              "</table>\n",
              "<p>1095 rows × 10 columns</p>\n",
              "</div>\n",
              "    <div class=\"colab-df-buttons\">\n",
              "\n",
              "  <div class=\"colab-df-container\">\n",
              "    <button class=\"colab-df-convert\" onclick=\"convertToInteractive('df-2697197f-9191-447f-a4ae-0df7e0e5bf60')\"\n",
              "            title=\"Convert this dataframe to an interactive table.\"\n",
              "            style=\"display:none;\">\n",
              "\n",
              "  <svg xmlns=\"http://www.w3.org/2000/svg\" height=\"24px\" viewBox=\"0 -960 960 960\">\n",
              "    <path d=\"M120-120v-720h720v720H120Zm60-500h600v-160H180v160Zm220 220h160v-160H400v160Zm0 220h160v-160H400v160ZM180-400h160v-160H180v160Zm440 0h160v-160H620v160ZM180-180h160v-160H180v160Zm440 0h160v-160H620v160Z\"/>\n",
              "  </svg>\n",
              "    </button>\n",
              "\n",
              "  <style>\n",
              "    .colab-df-container {\n",
              "      display:flex;\n",
              "      gap: 12px;\n",
              "    }\n",
              "\n",
              "    .colab-df-convert {\n",
              "      background-color: #E8F0FE;\n",
              "      border: none;\n",
              "      border-radius: 50%;\n",
              "      cursor: pointer;\n",
              "      display: none;\n",
              "      fill: #1967D2;\n",
              "      height: 32px;\n",
              "      padding: 0 0 0 0;\n",
              "      width: 32px;\n",
              "    }\n",
              "\n",
              "    .colab-df-convert:hover {\n",
              "      background-color: #E2EBFA;\n",
              "      box-shadow: 0px 1px 2px rgba(60, 64, 67, 0.3), 0px 1px 3px 1px rgba(60, 64, 67, 0.15);\n",
              "      fill: #174EA6;\n",
              "    }\n",
              "\n",
              "    .colab-df-buttons div {\n",
              "      margin-bottom: 4px;\n",
              "    }\n",
              "\n",
              "    [theme=dark] .colab-df-convert {\n",
              "      background-color: #3B4455;\n",
              "      fill: #D2E3FC;\n",
              "    }\n",
              "\n",
              "    [theme=dark] .colab-df-convert:hover {\n",
              "      background-color: #434B5C;\n",
              "      box-shadow: 0px 1px 3px 1px rgba(0, 0, 0, 0.15);\n",
              "      filter: drop-shadow(0px 1px 2px rgba(0, 0, 0, 0.3));\n",
              "      fill: #FFFFFF;\n",
              "    }\n",
              "  </style>\n",
              "\n",
              "    <script>\n",
              "      const buttonEl =\n",
              "        document.querySelector('#df-2697197f-9191-447f-a4ae-0df7e0e5bf60 button.colab-df-convert');\n",
              "      buttonEl.style.display =\n",
              "        google.colab.kernel.accessAllowed ? 'block' : 'none';\n",
              "\n",
              "      async function convertToInteractive(key) {\n",
              "        const element = document.querySelector('#df-2697197f-9191-447f-a4ae-0df7e0e5bf60');\n",
              "        const dataTable =\n",
              "          await google.colab.kernel.invokeFunction('convertToInteractive',\n",
              "                                                    [key], {});\n",
              "        if (!dataTable) return;\n",
              "\n",
              "        const docLinkHtml = 'Like what you see? Visit the ' +\n",
              "          '<a target=\"_blank\" href=https://colab.research.google.com/notebooks/data_table.ipynb>data table notebook</a>'\n",
              "          + ' to learn more about interactive tables.';\n",
              "        element.innerHTML = '';\n",
              "        dataTable['output_type'] = 'display_data';\n",
              "        await google.colab.output.renderOutput(dataTable, element);\n",
              "        const docLink = document.createElement('div');\n",
              "        docLink.innerHTML = docLinkHtml;\n",
              "        element.appendChild(docLink);\n",
              "      }\n",
              "    </script>\n",
              "  </div>\n",
              "\n",
              "\n",
              "<div id=\"df-71d885c4-9e80-4a6b-9ba8-34c0f6f5a5b8\">\n",
              "  <button class=\"colab-df-quickchart\" onclick=\"quickchart('df-71d885c4-9e80-4a6b-9ba8-34c0f6f5a5b8')\"\n",
              "            title=\"Suggest charts\"\n",
              "            style=\"display:none;\">\n",
              "\n",
              "<svg xmlns=\"http://www.w3.org/2000/svg\" height=\"24px\"viewBox=\"0 0 24 24\"\n",
              "     width=\"24px\">\n",
              "    <g>\n",
              "        <path d=\"M19 3H5c-1.1 0-2 .9-2 2v14c0 1.1.9 2 2 2h14c1.1 0 2-.9 2-2V5c0-1.1-.9-2-2-2zM9 17H7v-7h2v7zm4 0h-2V7h2v10zm4 0h-2v-4h2v4z\"/>\n",
              "    </g>\n",
              "</svg>\n",
              "  </button>\n",
              "\n",
              "<style>\n",
              "  .colab-df-quickchart {\n",
              "      --bg-color: #E8F0FE;\n",
              "      --fill-color: #1967D2;\n",
              "      --hover-bg-color: #E2EBFA;\n",
              "      --hover-fill-color: #174EA6;\n",
              "      --disabled-fill-color: #AAA;\n",
              "      --disabled-bg-color: #DDD;\n",
              "  }\n",
              "\n",
              "  [theme=dark] .colab-df-quickchart {\n",
              "      --bg-color: #3B4455;\n",
              "      --fill-color: #D2E3FC;\n",
              "      --hover-bg-color: #434B5C;\n",
              "      --hover-fill-color: #FFFFFF;\n",
              "      --disabled-bg-color: #3B4455;\n",
              "      --disabled-fill-color: #666;\n",
              "  }\n",
              "\n",
              "  .colab-df-quickchart {\n",
              "    background-color: var(--bg-color);\n",
              "    border: none;\n",
              "    border-radius: 50%;\n",
              "    cursor: pointer;\n",
              "    display: none;\n",
              "    fill: var(--fill-color);\n",
              "    height: 32px;\n",
              "    padding: 0;\n",
              "    width: 32px;\n",
              "  }\n",
              "\n",
              "  .colab-df-quickchart:hover {\n",
              "    background-color: var(--hover-bg-color);\n",
              "    box-shadow: 0 1px 2px rgba(60, 64, 67, 0.3), 0 1px 3px 1px rgba(60, 64, 67, 0.15);\n",
              "    fill: var(--button-hover-fill-color);\n",
              "  }\n",
              "\n",
              "  .colab-df-quickchart-complete:disabled,\n",
              "  .colab-df-quickchart-complete:disabled:hover {\n",
              "    background-color: var(--disabled-bg-color);\n",
              "    fill: var(--disabled-fill-color);\n",
              "    box-shadow: none;\n",
              "  }\n",
              "\n",
              "  .colab-df-spinner {\n",
              "    border: 2px solid var(--fill-color);\n",
              "    border-color: transparent;\n",
              "    border-bottom-color: var(--fill-color);\n",
              "    animation:\n",
              "      spin 1s steps(1) infinite;\n",
              "  }\n",
              "\n",
              "  @keyframes spin {\n",
              "    0% {\n",
              "      border-color: transparent;\n",
              "      border-bottom-color: var(--fill-color);\n",
              "      border-left-color: var(--fill-color);\n",
              "    }\n",
              "    20% {\n",
              "      border-color: transparent;\n",
              "      border-left-color: var(--fill-color);\n",
              "      border-top-color: var(--fill-color);\n",
              "    }\n",
              "    30% {\n",
              "      border-color: transparent;\n",
              "      border-left-color: var(--fill-color);\n",
              "      border-top-color: var(--fill-color);\n",
              "      border-right-color: var(--fill-color);\n",
              "    }\n",
              "    40% {\n",
              "      border-color: transparent;\n",
              "      border-right-color: var(--fill-color);\n",
              "      border-top-color: var(--fill-color);\n",
              "    }\n",
              "    60% {\n",
              "      border-color: transparent;\n",
              "      border-right-color: var(--fill-color);\n",
              "    }\n",
              "    80% {\n",
              "      border-color: transparent;\n",
              "      border-right-color: var(--fill-color);\n",
              "      border-bottom-color: var(--fill-color);\n",
              "    }\n",
              "    90% {\n",
              "      border-color: transparent;\n",
              "      border-bottom-color: var(--fill-color);\n",
              "    }\n",
              "  }\n",
              "</style>\n",
              "\n",
              "  <script>\n",
              "    async function quickchart(key) {\n",
              "      const quickchartButtonEl =\n",
              "        document.querySelector('#' + key + ' button');\n",
              "      quickchartButtonEl.disabled = true;  // To prevent multiple clicks.\n",
              "      quickchartButtonEl.classList.add('colab-df-spinner');\n",
              "      try {\n",
              "        const charts = await google.colab.kernel.invokeFunction(\n",
              "            'suggestCharts', [key], {});\n",
              "      } catch (error) {\n",
              "        console.error('Error during call to suggestCharts:', error);\n",
              "      }\n",
              "      quickchartButtonEl.classList.remove('colab-df-spinner');\n",
              "      quickchartButtonEl.classList.add('colab-df-quickchart-complete');\n",
              "    }\n",
              "    (() => {\n",
              "      let quickchartButtonEl =\n",
              "        document.querySelector('#df-71d885c4-9e80-4a6b-9ba8-34c0f6f5a5b8 button');\n",
              "      quickchartButtonEl.style.display =\n",
              "        google.colab.kernel.accessAllowed ? 'block' : 'none';\n",
              "    })();\n",
              "  </script>\n",
              "</div>\n",
              "\n",
              "  <div id=\"id_78e42fec-b406-4b8e-8242-909bdc699abd\">\n",
              "    <style>\n",
              "      .colab-df-generate {\n",
              "        background-color: #E8F0FE;\n",
              "        border: none;\n",
              "        border-radius: 50%;\n",
              "        cursor: pointer;\n",
              "        display: none;\n",
              "        fill: #1967D2;\n",
              "        height: 32px;\n",
              "        padding: 0 0 0 0;\n",
              "        width: 32px;\n",
              "      }\n",
              "\n",
              "      .colab-df-generate:hover {\n",
              "        background-color: #E2EBFA;\n",
              "        box-shadow: 0px 1px 2px rgba(60, 64, 67, 0.3), 0px 1px 3px 1px rgba(60, 64, 67, 0.15);\n",
              "        fill: #174EA6;\n",
              "      }\n",
              "\n",
              "      [theme=dark] .colab-df-generate {\n",
              "        background-color: #3B4455;\n",
              "        fill: #D2E3FC;\n",
              "      }\n",
              "\n",
              "      [theme=dark] .colab-df-generate:hover {\n",
              "        background-color: #434B5C;\n",
              "        box-shadow: 0px 1px 3px 1px rgba(0, 0, 0, 0.15);\n",
              "        filter: drop-shadow(0px 1px 2px rgba(0, 0, 0, 0.3));\n",
              "        fill: #FFFFFF;\n",
              "      }\n",
              "    </style>\n",
              "    <button class=\"colab-df-generate\" onclick=\"generateWithVariable('weather')\"\n",
              "            title=\"Generate code using this dataframe.\"\n",
              "            style=\"display:none;\">\n",
              "\n",
              "  <svg xmlns=\"http://www.w3.org/2000/svg\" height=\"24px\"viewBox=\"0 0 24 24\"\n",
              "       width=\"24px\">\n",
              "    <path d=\"M7,19H8.4L18.45,9,17,7.55,7,17.6ZM5,21V16.75L18.45,3.32a2,2,0,0,1,2.83,0l1.4,1.43a1.91,1.91,0,0,1,.58,1.4,1.91,1.91,0,0,1-.58,1.4L9.25,21ZM18.45,9,17,7.55Zm-12,3A5.31,5.31,0,0,0,4.9,8.1,5.31,5.31,0,0,0,1,6.5,5.31,5.31,0,0,0,4.9,4.9,5.31,5.31,0,0,0,6.5,1,5.31,5.31,0,0,0,8.1,4.9,5.31,5.31,0,0,0,12,6.5,5.46,5.46,0,0,0,6.5,12Z\"/>\n",
              "  </svg>\n",
              "    </button>\n",
              "    <script>\n",
              "      (() => {\n",
              "      const buttonEl =\n",
              "        document.querySelector('#id_78e42fec-b406-4b8e-8242-909bdc699abd button.colab-df-generate');\n",
              "      buttonEl.style.display =\n",
              "        google.colab.kernel.accessAllowed ? 'block' : 'none';\n",
              "\n",
              "      buttonEl.onclick = () => {\n",
              "        google.colab.notebook.generateWithVariable('weather');\n",
              "      }\n",
              "      })();\n",
              "    </script>\n",
              "  </div>\n",
              "\n",
              "    </div>\n",
              "  </div>\n"
            ],
            "application/vnd.google.colaboratory.intrinsic+json": {
              "type": "dataframe",
              "variable_name": "weather",
              "summary": "{\n  \"name\": \"weather\",\n  \"rows\": 1095,\n  \"fields\": [\n    {\n      \"column\": \"air_pressure_9am\",\n      \"properties\": {\n        \"dtype\": \"number\",\n        \"std\": 3.1841611814228306,\n        \"min\": 907.99,\n        \"max\": 929.32,\n        \"num_unique_values\": 852,\n        \"samples\": [\n          925.5882714,\n          922.6394891,\n          918.14\n        ],\n        \"semantic_type\": \"\",\n        \"description\": \"\"\n      }\n    },\n    {\n      \"column\": \"air_temp_9am\",\n      \"properties\": {\n        \"dtype\": \"number\",\n        \"std\": 11.175514003266807,\n        \"min\": 36.752,\n        \"max\": 98.906,\n        \"num_unique_values\": 980,\n        \"samples\": [\n          73.4,\n          82.4,\n          50.00212297\n        ],\n        \"semantic_type\": \"\",\n        \"description\": \"\"\n      }\n    },\n    {\n      \"column\": \"avg_wind_direction_9am\",\n      \"properties\": {\n        \"dtype\": \"number\",\n        \"std\": 69.13785928883634,\n        \"min\": 15.5,\n        \"max\": 343.4,\n        \"num_unique_values\": 942,\n        \"samples\": [\n          166.8471586,\n          185.3958612,\n          123.9885434\n        ],\n        \"semantic_type\": \"\",\n        \"description\": \"\"\n      }\n    },\n    {\n      \"column\": \"avg_wind_speed_9am\",\n      \"properties\": {\n        \"dtype\": \"number\",\n        \"std\": 4.552813465529017,\n        \"min\": 0.6934514,\n        \"max\": 23.5549782,\n        \"num_unique_values\": 723,\n        \"samples\": [\n          3.4448876000000004,\n          8.366155599999999,\n          5.3910254\n        ],\n        \"semantic_type\": \"\",\n        \"description\": \"\"\n      }\n    },\n    {\n      \"column\": \"max_wind_direction_9am\",\n      \"properties\": {\n        \"dtype\": \"number\",\n        \"std\": 67.23801294593561,\n        \"min\": 28.9,\n        \"max\": 312.2,\n        \"num_unique_values\": 943,\n        \"samples\": [\n          68.0,\n          190.1,\n          77.4913211\n        ],\n        \"semantic_type\": \"\",\n        \"description\": \"\"\n      }\n    },\n    {\n      \"column\": \"max_wind_speed_9am\",\n      \"properties\": {\n        \"dtype\": \"number\",\n        \"std\": 5.598209170789137,\n        \"min\": 1.1855782,\n        \"max\": 29.840779600000005,\n        \"num_unique_values\": 738,\n        \"samples\": [\n          11.73543121,\n          6.822667,\n          1.988785063\n        ],\n        \"semantic_type\": \"\",\n        \"description\": \"\"\n      }\n    },\n    {\n      \"column\": \"rain_accumulation_9am\",\n      \"properties\": {\n        \"dtype\": \"number\",\n        \"std\": 1.5939521253569486,\n        \"min\": 0.0,\n        \"max\": 24.02,\n        \"num_unique_values\": 82,\n        \"samples\": [\n          0.510196145,\n          0.0,\n          24.02\n        ],\n        \"semantic_type\": \"\",\n        \"description\": \"\"\n      }\n    },\n    {\n      \"column\": \"rain_duration_9am\",\n      \"properties\": {\n        \"dtype\": \"number\",\n        \"std\": 1598.0787786596147,\n        \"min\": 0.0,\n        \"max\": 17704.0,\n        \"num_unique_values\": 142,\n        \"samples\": [\n          15800.0,\n          460.0,\n          2230.0\n        ],\n        \"semantic_type\": \"\",\n        \"description\": \"\"\n      }\n    },\n    {\n      \"column\": \"relative_humidity_9am\",\n      \"properties\": {\n        \"dtype\": \"number\",\n        \"std\": 25.472066802254183,\n        \"min\": 6.09,\n        \"max\": 92.62,\n        \"num_unique_values\": 1052,\n        \"samples\": [\n          91.69,\n          80.6,\n          19.01460029\n        ],\n        \"semantic_type\": \"\",\n        \"description\": \"\"\n      }\n    },\n    {\n      \"column\": \"high_humidity_3pm\",\n      \"properties\": {\n        \"dtype\": \"number\",\n        \"std\": 0,\n        \"min\": 0,\n        \"max\": 1,\n        \"num_unique_values\": 2,\n        \"samples\": [\n          0,\n          1\n        ],\n        \"semantic_type\": \"\",\n        \"description\": \"\"\n      }\n    }\n  ]\n}"
            }
          },
          "metadata": {},
          "execution_count": 4
        }
      ]
    },
    {
      "cell_type": "code",
      "source": [
        "# Checking for any null values in dataset\n",
        "weather.isnull().sum()"
      ],
      "metadata": {
        "colab": {
          "base_uri": "https://localhost:8080/"
        },
        "id": "MteIDWVKHyVG",
        "outputId": "5bfef484-fbe9-4bc7-e8ed-18badeb705c2"
      },
      "execution_count": null,
      "outputs": [
        {
          "output_type": "execute_result",
          "data": {
            "text/plain": [
              "air_pressure_9am          3\n",
              "air_temp_9am              5\n",
              "avg_wind_direction_9am    4\n",
              "avg_wind_speed_9am        3\n",
              "max_wind_direction_9am    3\n",
              "max_wind_speed_9am        4\n",
              "rain_accumulation_9am     6\n",
              "rain_duration_9am         3\n",
              "relative_humidity_9am     0\n",
              "high_humidity_3pm         0\n",
              "dtype: int64"
            ]
          },
          "metadata": {},
          "execution_count": 9
        }
      ]
    },
    {
      "cell_type": "code",
      "source": [
        "# Checking for unique values\n",
        "weather.nunique()"
      ],
      "metadata": {
        "colab": {
          "base_uri": "https://localhost:8080/"
        },
        "id": "Qp3m-KDzIPB2",
        "outputId": "976b0df3-f1ac-4ee0-cfdd-e73b248d9af4"
      },
      "execution_count": null,
      "outputs": [
        {
          "output_type": "execute_result",
          "data": {
            "text/plain": [
              "air_pressure_9am           852\n",
              "air_temp_9am               980\n",
              "avg_wind_direction_9am     942\n",
              "avg_wind_speed_9am         723\n",
              "max_wind_direction_9am     943\n",
              "max_wind_speed_9am         738\n",
              "rain_accumulation_9am       82\n",
              "rain_duration_9am          142\n",
              "relative_humidity_9am     1052\n",
              "high_humidity_3pm            2\n",
              "dtype: int64"
            ]
          },
          "metadata": {},
          "execution_count": 7
        }
      ]
    },
    {
      "cell_type": "code",
      "source": [
        "# Deleting the null values\n",
        "weather.dropna(axis=0,inplace = True)"
      ],
      "metadata": {
        "id": "-JEBXVGLId8T"
      },
      "execution_count": null,
      "outputs": []
    },
    {
      "cell_type": "code",
      "source": [
        "# Final checking the dataset information & null values\n",
        "weather.info()"
      ],
      "metadata": {
        "colab": {
          "base_uri": "https://localhost:8080/"
        },
        "id": "GXpBlshNI9BE",
        "outputId": "4128e934-c669-451d-bf5e-be010372901e"
      },
      "execution_count": null,
      "outputs": [
        {
          "output_type": "stream",
          "name": "stdout",
          "text": [
            "<class 'pandas.core.frame.DataFrame'>\n",
            "Index: 1064 entries, 0 to 1094\n",
            "Data columns (total 10 columns):\n",
            " #   Column                  Non-Null Count  Dtype  \n",
            "---  ------                  --------------  -----  \n",
            " 0   air_pressure_9am        1064 non-null   float64\n",
            " 1   air_temp_9am            1064 non-null   float64\n",
            " 2   avg_wind_direction_9am  1064 non-null   float64\n",
            " 3   avg_wind_speed_9am      1064 non-null   float64\n",
            " 4   max_wind_direction_9am  1064 non-null   float64\n",
            " 5   max_wind_speed_9am      1064 non-null   float64\n",
            " 6   rain_accumulation_9am   1064 non-null   float64\n",
            " 7   rain_duration_9am       1064 non-null   float64\n",
            " 8   relative_humidity_9am   1064 non-null   float64\n",
            " 9   high_humidity_3pm       1064 non-null   int64  \n",
            "dtypes: float64(9), int64(1)\n",
            "memory usage: 91.4 KB\n"
          ]
        }
      ]
    },
    {
      "cell_type": "code",
      "source": [
        "# Assigning features values to X & Target values to Y\n",
        "x= weather.iloc[:,:-1]\n",
        "y = weather[[\"high_humidity_3pm\"]]"
      ],
      "metadata": {
        "id": "hPdjiBFFJDW0"
      },
      "execution_count": null,
      "outputs": []
    },
    {
      "cell_type": "code",
      "source": [
        "# Dividing the dataset into Train & Test Split\n",
        "# Checking te shae of data\n",
        "x_train,x_test,y_train,y_test = train_test_split(x,y,test_size = 0.20,random_state= 61)\n",
        "print(x_train.shape)\n",
        "print(x_test.shape)\n",
        "print(y_train.shape)\n",
        "print(y_test.shape)"
      ],
      "metadata": {
        "colab": {
          "base_uri": "https://localhost:8080/"
        },
        "id": "MYUt1CysJ4Rw",
        "outputId": "988193ab-24c2-4837-a237-6f38c46aef58"
      },
      "execution_count": null,
      "outputs": [
        {
          "output_type": "stream",
          "name": "stdout",
          "text": [
            "(851, 9)\n",
            "(213, 9)\n",
            "(851, 1)\n",
            "(213, 1)\n"
          ]
        }
      ]
    },
    {
      "cell_type": "code",
      "source": [
        "# Creating Decesion Tree Model\n",
        "model = DecisionTreeClassifier()\n",
        "model.fit(x_train,y_train)"
      ],
      "metadata": {
        "colab": {
          "base_uri": "https://localhost:8080/",
          "height": 75
        },
        "id": "e6oVKNyKKQLr",
        "outputId": "9b81b94d-47c5-46fc-ec9c-727211dc2747"
      },
      "execution_count": null,
      "outputs": [
        {
          "output_type": "execute_result",
          "data": {
            "text/plain": [
              "DecisionTreeClassifier()"
            ],
            "text/html": [
              "<style>#sk-container-id-1 {color: black;}#sk-container-id-1 pre{padding: 0;}#sk-container-id-1 div.sk-toggleable {background-color: white;}#sk-container-id-1 label.sk-toggleable__label {cursor: pointer;display: block;width: 100%;margin-bottom: 0;padding: 0.3em;box-sizing: border-box;text-align: center;}#sk-container-id-1 label.sk-toggleable__label-arrow:before {content: \"▸\";float: left;margin-right: 0.25em;color: #696969;}#sk-container-id-1 label.sk-toggleable__label-arrow:hover:before {color: black;}#sk-container-id-1 div.sk-estimator:hover label.sk-toggleable__label-arrow:before {color: black;}#sk-container-id-1 div.sk-toggleable__content {max-height: 0;max-width: 0;overflow: hidden;text-align: left;background-color: #f0f8ff;}#sk-container-id-1 div.sk-toggleable__content pre {margin: 0.2em;color: black;border-radius: 0.25em;background-color: #f0f8ff;}#sk-container-id-1 input.sk-toggleable__control:checked~div.sk-toggleable__content {max-height: 200px;max-width: 100%;overflow: auto;}#sk-container-id-1 input.sk-toggleable__control:checked~label.sk-toggleable__label-arrow:before {content: \"▾\";}#sk-container-id-1 div.sk-estimator input.sk-toggleable__control:checked~label.sk-toggleable__label {background-color: #d4ebff;}#sk-container-id-1 div.sk-label input.sk-toggleable__control:checked~label.sk-toggleable__label {background-color: #d4ebff;}#sk-container-id-1 input.sk-hidden--visually {border: 0;clip: rect(1px 1px 1px 1px);clip: rect(1px, 1px, 1px, 1px);height: 1px;margin: -1px;overflow: hidden;padding: 0;position: absolute;width: 1px;}#sk-container-id-1 div.sk-estimator {font-family: monospace;background-color: #f0f8ff;border: 1px dotted black;border-radius: 0.25em;box-sizing: border-box;margin-bottom: 0.5em;}#sk-container-id-1 div.sk-estimator:hover {background-color: #d4ebff;}#sk-container-id-1 div.sk-parallel-item::after {content: \"\";width: 100%;border-bottom: 1px solid gray;flex-grow: 1;}#sk-container-id-1 div.sk-label:hover label.sk-toggleable__label {background-color: #d4ebff;}#sk-container-id-1 div.sk-serial::before {content: \"\";position: absolute;border-left: 1px solid gray;box-sizing: border-box;top: 0;bottom: 0;left: 50%;z-index: 0;}#sk-container-id-1 div.sk-serial {display: flex;flex-direction: column;align-items: center;background-color: white;padding-right: 0.2em;padding-left: 0.2em;position: relative;}#sk-container-id-1 div.sk-item {position: relative;z-index: 1;}#sk-container-id-1 div.sk-parallel {display: flex;align-items: stretch;justify-content: center;background-color: white;position: relative;}#sk-container-id-1 div.sk-item::before, #sk-container-id-1 div.sk-parallel-item::before {content: \"\";position: absolute;border-left: 1px solid gray;box-sizing: border-box;top: 0;bottom: 0;left: 50%;z-index: -1;}#sk-container-id-1 div.sk-parallel-item {display: flex;flex-direction: column;z-index: 1;position: relative;background-color: white;}#sk-container-id-1 div.sk-parallel-item:first-child::after {align-self: flex-end;width: 50%;}#sk-container-id-1 div.sk-parallel-item:last-child::after {align-self: flex-start;width: 50%;}#sk-container-id-1 div.sk-parallel-item:only-child::after {width: 0;}#sk-container-id-1 div.sk-dashed-wrapped {border: 1px dashed gray;margin: 0 0.4em 0.5em 0.4em;box-sizing: border-box;padding-bottom: 0.4em;background-color: white;}#sk-container-id-1 div.sk-label label {font-family: monospace;font-weight: bold;display: inline-block;line-height: 1.2em;}#sk-container-id-1 div.sk-label-container {text-align: center;}#sk-container-id-1 div.sk-container {/* jupyter's `normalize.less` sets `[hidden] { display: none; }` but bootstrap.min.css set `[hidden] { display: none !important; }` so we also need the `!important` here to be able to override the default hidden behavior on the sphinx rendered scikit-learn.org. See: https://github.com/scikit-learn/scikit-learn/issues/21755 */display: inline-block !important;position: relative;}#sk-container-id-1 div.sk-text-repr-fallback {display: none;}</style><div id=\"sk-container-id-1\" class=\"sk-top-container\"><div class=\"sk-text-repr-fallback\"><pre>DecisionTreeClassifier()</pre><b>In a Jupyter environment, please rerun this cell to show the HTML representation or trust the notebook. <br />On GitHub, the HTML representation is unable to render, please try loading this page with nbviewer.org.</b></div><div class=\"sk-container\" hidden><div class=\"sk-item\"><div class=\"sk-estimator sk-toggleable\"><input class=\"sk-toggleable__control sk-hidden--visually\" id=\"sk-estimator-id-1\" type=\"checkbox\" checked><label for=\"sk-estimator-id-1\" class=\"sk-toggleable__label sk-toggleable__label-arrow\">DecisionTreeClassifier</label><div class=\"sk-toggleable__content\"><pre>DecisionTreeClassifier()</pre></div></div></div></div></div>"
            ]
          },
          "metadata": {},
          "execution_count": 21
        }
      ]
    },
    {
      "cell_type": "code",
      "source": [
        "# Predicting the model\n",
        "y_pred= model.predict(x_test)"
      ],
      "metadata": {
        "id": "3tTXNAzIKnDw"
      },
      "execution_count": null,
      "outputs": []
    },
    {
      "cell_type": "code",
      "source": [
        "# Checking the Acuracy\n",
        "accuracy = accuracy_score(y_test, y_pred)*100\n",
        "print(\"The Accuracy is :-\", accuracy)"
      ],
      "metadata": {
        "colab": {
          "base_uri": "https://localhost:8080/"
        },
        "id": "nYFkWX2IK3Zl",
        "outputId": "3e0cd3cb-5093-4328-94cc-9d0dbd7dee3a"
      },
      "execution_count": null,
      "outputs": [
        {
          "output_type": "stream",
          "name": "stdout",
          "text": [
            "The Accuracy is :- 87.79342723004694\n"
          ]
        }
      ]
    },
    {
      "cell_type": "code",
      "source": [
        "# Plotting the Tree by Decesion Tree Classifier\n",
        "# Plotting max depth upto level 2\n",
        "plt.figure(figsize=(10,4))\n",
        "plot_tree(model,max_depth = 2,filled = True)\n",
        "plt.show()"
      ],
      "metadata": {
        "colab": {
          "base_uri": "https://localhost:8080/",
          "height": 345
        },
        "id": "S-Sa4M7ZLKQf",
        "outputId": "516f3bef-d5ab-4627-a8a1-c411645ccf93"
      },
      "execution_count": null,
      "outputs": [
        {
          "output_type": "display_data",
          "data": {
            "text/plain": [
              "<Figure size 1000x400 with 1 Axes>"
            ],
            "image/png": "[encoded data removed]"
          },
          "metadata": {}
        }
      ]
    },
    {
      "cell_type": "code",
      "source": [
        "# Evaluating the model using Confusion Matrix\n",
        "# Plotting Confusion matrix\n",
        "cm= confusion_matrix(y_test,y_pred)\n",
        "labels = ['Rain', 'No Rain']\n",
        "print(cm)\n",
        "\n",
        "ax= plt.subplot()\n",
        "sns.heatmap(cm, annot= True,ax= ax, cmap = \"magma\")\n",
        "ax.set_ylabel(\"Actual Data\")\n",
        "ax.set_xlabel(\"Predcited Data\")\n",
        "ax.set_title(\"Confusion Matrix\")\n",
        "ax.xaxis.set_ticklabels(labels)\n",
        "ax.yaxis.set_ticklabels(labels)"
      ],
      "metadata": {
        "colab": {
          "base_uri": "https://localhost:8080/",
          "height": 532
        },
        "id": "8ph2TskSMatn",
        "outputId": "a076469e-873e-4312-eda2-79af60c2291a"
      },
      "execution_count": null,
      "outputs": [
        {
          "output_type": "stream",
          "name": "stdout",
          "text": [
            "[[101  10]\n",
            " [ 16  86]]\n"
          ]
        },
        {
          "output_type": "execute_result",
          "data": {
            "text/plain": [
              "[Text(0, 0.5, 'Rain'), Text(0, 1.5, 'No Rain')]"
            ]
          },
          "metadata": {},
          "execution_count": 50
        },
        {
          "output_type": "display_data",
          "data": {
            "text/plain": [
              "<Figure size 640x480 with 2 Axes>"
            ],
            "image/png": "[encoded data removed]"
          },
          "metadata": {}
        }
      ]
    },
    {
      "cell_type": "markdown",
      "source": [
        "# Conclusion"
      ],
      "metadata": {
        "id": "EvheiVyfFnpG"
      }
    },
    {
      "cell_type": "markdown",
      "source": [
        "\n",
        "\n",
        "*   This is a three years dataset of Weather Readings.\n",
        "*   The model achieved an accuracy of around 87%, meaning it correctly predicted humidity levels for 87.79% of the test dataset.\n",
        "* The type-1 error False Positive is 10 & type-2 error False Negeative is 16.\n",
        "* Taking \"High Humidity at 3 pm\" is as Target varible and rest all column as Features.\n",
        "* The Criterion is used as \"gini\", splitter is \"best\".\n",
        "* Overall the model prediction is good its not over fitted."
      ],
      "metadata": {
        "id": "PXbebJytFrnr"
      }
    }
  ]
}